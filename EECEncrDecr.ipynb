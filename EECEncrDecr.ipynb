{
 "cells": [
  {
   "cell_type": "code",
   "execution_count": 1,
   "id": "71df33d5",
   "metadata": {},
   "outputs": [
    {
     "name": "stdout",
     "output_type": "stream",
     "text": [
      "private key: 0x271cd167a6a0f7167c1129ccc28ddc1f7afea649416045415859c785b85df0ec\n",
      "public key: 0xa6e45af71f2ca7232131338ae6431a7615e279c3160dd378c7951cfca9631d431\n",
      "ciphertext pubKey: 0x41fa99f30509a6591ce2cc8fad1787d75524c666b90ba197fea8c5e8f0e3465b1\n",
      "encryption key: 0x1408f90c1c8782490f4ccd8d45907fc7e2ee1c9bba2a9ddba46c29301440c50a1\n",
      "decryption key: 0x1408f90c1c8782490f4ccd8d45907fc7e2ee1c9bba2a9ddba46c29301440c50a1\n"
     ]
    }
   ],
   "source": [
    "from tinyec import registry\n",
    "import secrets\n",
    "\n",
    "curve = registry.get_curve('brainpoolP256r1')\n",
    "\n",
    "def compress_point(point):\n",
    "    return hex(point.x) + hex(point.y % 2)[2:]\n",
    "\n",
    "def ecc_calc_encryption_keys(pubKey):\n",
    "    ciphertextPrivKey = secrets.randbelow(curve.field.n)\n",
    "    ciphertextPubKey = ciphertextPrivKey * curve.g\n",
    "    sharedECCKey = pubKey * ciphertextPrivKey\n",
    "    return (sharedECCKey, ciphertextPubKey)\n",
    "\n",
    "def ecc_calc_decryption_key(privKey, ciphertextPubKey):\n",
    "    sharedECCKey = ciphertextPubKey * privKey\n",
    "    return sharedECCKey\n",
    "\n",
    "privKey = secrets.randbelow(curve.field.n)\n",
    "pubKey = privKey * curve.g\n",
    "print(\"private key:\", hex(privKey))\n",
    "print(\"public key:\", compress_point(pubKey))\n",
    "\n",
    "(encryptKey, ciphertextPubKey) = ecc_calc_encryption_keys(pubKey)\n",
    "print(\"ciphertext pubKey:\", compress_point(ciphertextPubKey))\n",
    "print(\"encryption key:\", compress_point(encryptKey))\n",
    "\n",
    "decryptKey = ecc_calc_decryption_key(privKey, ciphertextPubKey)\n",
    "print(\"decryption key:\", compress_point(decryptKey))\n"
   ]
  },
  {
   "cell_type": "code",
   "execution_count": null,
   "id": "c18d8b72",
   "metadata": {},
   "outputs": [],
   "source": []
  },
  {
   "cell_type": "code",
   "execution_count": null,
   "id": "d6701264",
   "metadata": {},
   "outputs": [],
   "source": []
  }
 ],
 "metadata": {
  "kernelspec": {
   "display_name": "Python 3 (ipykernel)",
   "language": "python",
   "name": "python3"
  },
  "language_info": {
   "codemirror_mode": {
    "name": "ipython",
    "version": 3
   },
   "file_extension": ".py",
   "mimetype": "text/x-python",
   "name": "python",
   "nbconvert_exporter": "python",
   "pygments_lexer": "ipython3",
   "version": "3.7.11"
  }
 },
 "nbformat": 4,
 "nbformat_minor": 5
}
