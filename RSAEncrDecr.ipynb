{
 "cells": [
  {
   "cell_type": "code",
   "execution_count": 1,
   "id": "7987634a",
   "metadata": {},
   "outputs": [
    {
     "name": "stdout",
     "output_type": "stream",
     "text": [
      "original string:  hello this is testing RSA encryption method\n",
      "encrypted string:  b'[\\x1c7E\\xc5\\x9bS\\xdd\\xc7\\xf5\\x10\\x87\\x94\\xaa0\\x1c\\xc9\\x8d\\xc8\\x92\\xe9\\xf0\\xa2e\\xc3\\x98\\x9c\\xccc\\xe7\\xa6\\xd1\\x93\\xdbB\\xf6[|7\\xe8\\x14\\xa3\\xe3\\x91\\xe1\\xc8oKn=\\x00\\xbd\\t\\x0b\\xa1O\\xa1>\\x0f\\xe7]\\xa7t\\x14'\n",
      "decrypted string:  hello this is testing RSA encryption method\n"
     ]
    }
   ],
   "source": [
    "import rsa\n",
    " \n",
    "# generate public and private keys with\n",
    "# rsa.newkeys method,this method accepts\n",
    "# key length as its parameter\n",
    "# key length should be atleast 16\n",
    "publicKey, privateKey = rsa.newkeys(512)\n",
    " \n",
    "# this is the string that we will be encrypting\n",
    "message = \"hello this is testing RSA encryption method\"\n",
    " \n",
    "# rsa.encrypt method is used to encrypt\n",
    "# string with public key string should be\n",
    "# encode to byte string before encryption\n",
    "# with encode method\n",
    "encMessage = rsa.encrypt(message.encode(),\n",
    "                         publicKey)\n",
    " \n",
    "print(\"original string: \", message)\n",
    "print(\"encrypted string: \", encMessage)\n",
    " \n",
    "# the encrypted message can be decrypted\n",
    "# with ras.decrypt method and private key\n",
    "# decrypt method returns encoded byte string,\n",
    "# use decode method to convert it to string\n",
    "# public key cannot be used for decryption\n",
    "decMessage = rsa.decrypt(encMessage, privateKey).decode()\n",
    " \n",
    "print(\"decrypted string: \", decMessage)"
   ]
  },
  {
   "cell_type": "code",
   "execution_count": null,
   "id": "56f4c28e",
   "metadata": {},
   "outputs": [],
   "source": []
  }
 ],
 "metadata": {
  "kernelspec": {
   "display_name": "Python 3 (ipykernel)",
   "language": "python",
   "name": "python3"
  },
  "language_info": {
   "codemirror_mode": {
    "name": "ipython",
    "version": 3
   },
   "file_extension": ".py",
   "mimetype": "text/x-python",
   "name": "python",
   "nbconvert_exporter": "python",
   "pygments_lexer": "ipython3",
   "version": "3.7.11"
  }
 },
 "nbformat": 4,
 "nbformat_minor": 5
}
