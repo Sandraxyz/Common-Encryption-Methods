{
 "cells": [
  {
   "cell_type": "code",
   "execution_count": 1,
   "id": "2e6aeae2",
   "metadata": {},
   "outputs": [
    {
     "name": "stdout",
     "output_type": "stream",
     "text": [
      "the public key of Alice is=  7436\n",
      "the public key of Bob is=  65365\n",
      "the superkey is =  86327\n",
      "encrypted=  86363\n",
      "decrypted=  36\n"
     ]
    }
   ],
   "source": [
    "#  Diffie-Hellman asymmetric key exchange\n",
    "# \n",
    "\n",
    "# define a few functions\n",
    "\n",
    "def publickey(g,a,p):  \n",
    "\tastar=pow(g,a,p)  # pow(base,exp,m) is equivalent to base**exp mod m\n",
    "\treturn astar\n",
    "\n",
    "# compute super key x given bstar (Bob's public key), a (Alice's private key)\n",
    "# and the parameter p\n",
    "def superkey(bstar,a,p): \n",
    "\tx=pow(bstar,a,p)\n",
    "\treturn x\n",
    "\n",
    "# set the global parameters known to everybody\n",
    "p=103079\n",
    "g=7\n",
    "\n",
    "# here is the private key of Alice -- has to be < p\n",
    "a=13  \n",
    "# compute Alice's public key given the global parameters and her private key a\n",
    "astar=publickey(g,a,p)  \n",
    "print(\"the public key of Alice is= \", astar)\n",
    "\n",
    "# private and public keys for Bob \n",
    "b=11     # it is smaller than p\n",
    "bstar=publickey(g,b,p)\n",
    "print(\"the public key of Bob is= \", bstar)\n",
    "\n",
    "# compute super key x given bstar (Bob's public key), a (Alice's private key)\n",
    "x= superkey(bstar,a,p)  \n",
    "print(\"the superkey is = \", x)\n",
    "\n",
    "# use the super key to encrypt a number (simple solution)\n",
    "t= 36\n",
    "encrypted=(t+x) % p\n",
    "print('encrypted= ', encrypted)\n",
    "\n",
    "# and to decrypt it\n",
    "decrypted=(encrypted-x)%p\n",
    "print('decrypted= ', decrypted)\n",
    "\n",
    "#try other numbers\n"
   ]
  },
  {
   "cell_type": "code",
   "execution_count": null,
   "id": "3f7a77de",
   "metadata": {},
   "outputs": [],
   "source": []
  }
 ],
 "metadata": {
  "kernelspec": {
   "display_name": "Python 3 (ipykernel)",
   "language": "python",
   "name": "python3"
  },
  "language_info": {
   "codemirror_mode": {
    "name": "ipython",
    "version": 3
   },
   "file_extension": ".py",
   "mimetype": "text/x-python",
   "name": "python",
   "nbconvert_exporter": "python",
   "pygments_lexer": "ipython3",
   "version": "3.7.11"
  }
 },
 "nbformat": 4,
 "nbformat_minor": 5
}
