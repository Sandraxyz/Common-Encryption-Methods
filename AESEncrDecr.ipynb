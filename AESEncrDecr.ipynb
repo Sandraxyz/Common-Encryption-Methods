{
 "cells": [
  {
   "cell_type": "code",
   "execution_count": 1,
   "id": "f1f0984f",
   "metadata": {},
   "outputs": [],
   "source": [
    "import base64\n",
    "import hashlib\n",
    "from Crypto.Cipher import AES\n",
    "from Crypto import Random"
   ]
  },
  {
   "cell_type": "code",
   "execution_count": 2,
   "id": "313c5835",
   "metadata": {},
   "outputs": [],
   "source": [
    "BLOCK_SIZE = 16\n",
    "pad = lambda s: s + (BLOCK_SIZE - len(s) % BLOCK_SIZE) * chr(BLOCK_SIZE - len(s) % BLOCK_SIZE)\n",
    "unpad = lambda s: s[:-ord(s[len(s) - 1:])]"
   ]
  },
  {
   "cell_type": "code",
   "execution_count": 3,
   "id": "e993a947",
   "metadata": {},
   "outputs": [],
   "source": [
    "password = \"something\""
   ]
  },
  {
   "cell_type": "code",
   "execution_count": 4,
   "id": "d42d9aa2",
   "metadata": {},
   "outputs": [],
   "source": [
    "def encrypt(raw, password):\n",
    "    private_key = hashlib.sha256(password.encode(\"utf-8\")).digest()\n",
    "    raw = pad(raw)\n",
    "    iv = Random.new().read(AES.block_size)\n",
    "    cipher = AES.new(private_key, AES.MODE_CBC, iv)\n",
    "    return base64.b64encode(iv + cipher.encrypt(raw))"
   ]
  },
  {
   "cell_type": "code",
   "execution_count": 5,
   "id": "e9db0ecc",
   "metadata": {},
   "outputs": [],
   "source": [
    "def decrypt(enc, password):\n",
    "    private_key = hashlib.sha256(password.encode(\"utf-8\")).digest()\n",
    "    enc = base64.b64decode(enc)\n",
    "    iv = enc[:16]\n",
    "    cipher = AES.new(private_key, AES.MODE_CBC, iv)\n",
    "    return unpad(cipher.decrypt(enc[16:]))"
   ]
  },
  {
   "cell_type": "code",
   "execution_count": 6,
   "id": "cf4570ff",
   "metadata": {},
   "outputs": [
    {
     "name": "stdout",
     "output_type": "stream",
     "text": [
      "b'DbThA8P+S9AfMVaBqrsVWiv21SIAbIclB6/oBrniOIVfIX3QiGXqOEYYdhnPSyx2'\n"
     ]
    }
   ],
   "source": [
    "# First let us encrypt secret message\n",
    "encrypted = encrypt(\"This is a secret message\", password)\n",
    "print(encrypted)"
   ]
  },
  {
   "cell_type": "code",
   "execution_count": 7,
   "id": "7d26d8f1",
   "metadata": {},
   "outputs": [
    {
     "name": "stdout",
     "output_type": "stream",
     "text": [
      "This is a secret message\n"
     ]
    }
   ],
   "source": [
    "# Let us decrypt using our original password\n",
    "decrypted = decrypt(encrypted, password)\n",
    "print(bytes.decode(decrypted))"
   ]
  },
  {
   "cell_type": "code",
   "execution_count": null,
   "id": "547d09b9",
   "metadata": {},
   "outputs": [],
   "source": []
  }
 ],
 "metadata": {
  "interpreter": {
   "hash": "aee8b7b246df8f9039afb4144a1f6fd8d2ca17a180786b69acc140d282b71a49"
  },
  "kernelspec": {
   "display_name": "Python 3 (ipykernel)",
   "language": "python",
   "name": "python3"
  },
  "language_info": {
   "codemirror_mode": {
    "name": "ipython",
    "version": 3
   },
   "file_extension": ".py",
   "mimetype": "text/x-python",
   "name": "python",
   "nbconvert_exporter": "python",
   "pygments_lexer": "ipython3",
   "version": "3.7.11"
  }
 },
 "nbformat": 4,
 "nbformat_minor": 5
}
